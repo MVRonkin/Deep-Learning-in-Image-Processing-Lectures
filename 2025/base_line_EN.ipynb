{
 "cells": [
  {
   "cell_type": "markdown",
   "id": "2f79bd05",
   "metadata": {},
   "source": [
    "# Baseline"
   ]
  },
  {
   "cell_type": "markdown",
   "id": "052f441f",
   "metadata": {},
   "source": [
    "## Import"
   ]
  },
  {
   "cell_type": "code",
   "execution_count": 47,
   "id": "d874b37c",
   "metadata": {},
   "outputs": [],
   "source": [
    "import os\n",
    "from pathlib import Path\n",
    "from PIL import Image\n",
    "import numpy as np\n",
    "import pandas as pd\n",
    "import random\n",
    "import time\n",
    "import matplotlib.pyplot as plt\n",
    "\n",
    "from sklearn.preprocessing import LabelEncoder"
   ]
  },
  {
   "cell_type": "code",
   "execution_count": 48,
   "id": "b22393a5",
   "metadata": {},
   "outputs": [],
   "source": [
    "import torch\n",
    "from torch.utils.data import Dataset\n",
    "import torch\n",
    "import torch.nn as nn\n",
    "import torch.nn.functional as F\n",
    "import torch.optim as optim"
   ]
  },
  {
   "cell_type": "code",
   "execution_count": 49,
   "id": "9b556f62",
   "metadata": {},
   "outputs": [],
   "source": [
    "import torchvision\n",
    "from torchvision import transforms"
   ]
  },
  {
   "cell_type": "code",
   "execution_count": 50,
   "id": "a5607bd2",
   "metadata": {},
   "outputs": [],
   "source": [
    "from torchinfo import summary\n",
    "from tqdm.notebook import tqdm, trange"
   ]
  },
  {
   "cell_type": "code",
   "execution_count": 1,
   "id": "92f4134d",
   "metadata": {},
   "outputs": [],
   "source": [
    "def torch_stats(): \n",
    "    torch_version = \".\".join(torch.__version__.split(\".\")[:2])\n",
    "    print('torch version:',torch_version)\n",
    "    \n",
    "    device = torch.device('cuda' if torch.cuda.is_available() else 'cpu')\n",
    "    print('Using device:', device)\n",
    "    dtype = torch.float32\n",
    "    \n",
    "    if device.type == 'cuda':\n",
    "        cuda_version  = torch.__version__.split(\"+\")[-1]\n",
    "        print(\"cuda: \", cuda_version)\n",
    "        \n",
    "        torch.set_default_tensor_type(torch.cuda.FloatTensor)\n",
    "        print('Cuda is available:',torch.cuda.is_available())\n",
    "\n",
    "        n_devices = torch.cuda.device_count()\n",
    "        print('number of devices: %d'%(n_devices))\n",
    "\n",
    "        for cnt_device in range(n_devices):\n",
    "            print(torch.cuda.get_device_name(cnt_device))\n",
    "            print('Memory Usage:')\n",
    "            print('Allocated:', round(torch.cuda.memory_allocated(cnt_device)/1024**3,1), 'GB')\n",
    "            print('Cached:   ', round(torch.cuda.memory_reserved(cnt_device)/1024**3,1), 'GB')\n",
    "\n",
    "\n",
    "    torch.set_default_dtype(dtype) # float32\n",
    "    print('default data type:',dtype)\n",
    "    \n",
    "    num_workers=os.cpu_count()\n",
    "    print ('available number of workers:',num_workers)\n",
    "    \n",
    "    return device, dtype, num_workers\n",
    "#-------------------------------\n",
    "def torch_seed(seed = 42, deterministic = True):\n",
    "    random.seed(seed) # random and transforms\n",
    "    np.random.seed(seed) #numpy\n",
    "    torch.manual_seed(seed) #cpu\n",
    "    torch.cuda.manual_seed(seed) #gpu\n",
    "    torch.backends.cudnn.deterministic=deterministic #cudnn "
   ]
  },
  {
   "cell_type": "code",
   "execution_count": 2,
   "id": "7afd512c",
   "metadata": {
    "scrolled": true
   },
   "outputs": [
    {
     "ename": "NameError",
     "evalue": "name 'torch' is not defined",
     "output_type": "error",
     "traceback": [
      "\u001b[1;31m---------------------------------------------------------------------------\u001b[0m",
      "\u001b[1;31mNameError\u001b[0m                                 Traceback (most recent call last)",
      "\u001b[1;32m<ipython-input-2-9be6bef045b8>\u001b[0m in \u001b[0;36m<module>\u001b[1;34m\u001b[0m\n\u001b[1;32m----> 1\u001b[1;33m \u001b[0mdevice\u001b[0m\u001b[1;33m,\u001b[0m \u001b[0mdtype\u001b[0m\u001b[1;33m,\u001b[0m \u001b[0mnum_workers\u001b[0m \u001b[1;33m=\u001b[0m \u001b[0mtorch_stats\u001b[0m\u001b[1;33m(\u001b[0m\u001b[1;33m)\u001b[0m\u001b[1;33m\u001b[0m\u001b[0m\n\u001b[0m\u001b[0;32m      2\u001b[0m \u001b[0mtorch_seed\u001b[0m\u001b[1;33m(\u001b[0m\u001b[0mseed\u001b[0m \u001b[1;33m=\u001b[0m \u001b[1;36m42\u001b[0m\u001b[1;33m,\u001b[0m \u001b[0mdeterministic\u001b[0m \u001b[1;33m=\u001b[0m \u001b[1;32mTrue\u001b[0m\u001b[1;33m)\u001b[0m\u001b[1;33m\u001b[0m\u001b[0m\n",
      "\u001b[1;32m<ipython-input-1-d8bb313e429d>\u001b[0m in \u001b[0;36mtorch_stats\u001b[1;34m()\u001b[0m\n\u001b[0;32m      1\u001b[0m \u001b[1;32mdef\u001b[0m \u001b[0mtorch_stats\u001b[0m\u001b[1;33m(\u001b[0m\u001b[1;33m)\u001b[0m\u001b[1;33m:\u001b[0m\u001b[1;33m\u001b[0m\u001b[0m\n\u001b[1;32m----> 2\u001b[1;33m     \u001b[0mtorch_version\u001b[0m \u001b[1;33m=\u001b[0m \u001b[1;34m\".\"\u001b[0m\u001b[1;33m.\u001b[0m\u001b[0mjoin\u001b[0m\u001b[1;33m(\u001b[0m\u001b[0mtorch\u001b[0m\u001b[1;33m.\u001b[0m\u001b[0m__version__\u001b[0m\u001b[1;33m.\u001b[0m\u001b[0msplit\u001b[0m\u001b[1;33m(\u001b[0m\u001b[1;34m\".\"\u001b[0m\u001b[1;33m)\u001b[0m\u001b[1;33m[\u001b[0m\u001b[1;33m:\u001b[0m\u001b[1;36m2\u001b[0m\u001b[1;33m]\u001b[0m\u001b[1;33m)\u001b[0m\u001b[1;33m\u001b[0m\u001b[0m\n\u001b[0m\u001b[0;32m      3\u001b[0m     \u001b[0mprint\u001b[0m\u001b[1;33m(\u001b[0m\u001b[1;34m'torch version:'\u001b[0m\u001b[1;33m,\u001b[0m\u001b[0mtorch_version\u001b[0m\u001b[1;33m)\u001b[0m\u001b[1;33m\u001b[0m\u001b[0m\n\u001b[0;32m      4\u001b[0m \u001b[1;33m\u001b[0m\u001b[0m\n\u001b[0;32m      5\u001b[0m     \u001b[0mdevice\u001b[0m \u001b[1;33m=\u001b[0m \u001b[0mtorch\u001b[0m\u001b[1;33m.\u001b[0m\u001b[0mdevice\u001b[0m\u001b[1;33m(\u001b[0m\u001b[1;34m'cuda'\u001b[0m \u001b[1;32mif\u001b[0m \u001b[0mtorch\u001b[0m\u001b[1;33m.\u001b[0m\u001b[0mcuda\u001b[0m\u001b[1;33m.\u001b[0m\u001b[0mis_available\u001b[0m\u001b[1;33m(\u001b[0m\u001b[1;33m)\u001b[0m \u001b[1;32melse\u001b[0m \u001b[1;34m'cpu'\u001b[0m\u001b[1;33m)\u001b[0m\u001b[1;33m\u001b[0m\u001b[0m\n",
      "\u001b[1;31mNameError\u001b[0m: name 'torch' is not defined"
     ]
    }
   ],
   "source": [
    "device, dtype, num_workers = torch_stats()\n",
    "torch_seed(seed = 42, deterministic = True)"
   ]
  },
  {
   "cell_type": "markdown",
   "id": "98a78460",
   "metadata": {},
   "source": [
    "## Download the data"
   ]
  },
  {
   "cell_type": "code",
   "execution_count": 94,
   "id": "7af5c42c",
   "metadata": {},
   "outputs": [],
   "source": [
    "from torchvision.datasets.utils import download_and_extract_archive"
   ]
  },
  {
   "cell_type": "code",
   "execution_count": 96,
   "id": "153f8fae",
   "metadata": {
    "scrolled": true
   },
   "outputs": [
    {
     "name": "stdout",
     "output_type": "stream",
     "text": [
      "Downloading https://raw.githubusercontent.com/MVRonkin/Deep-Learning-Foundation-Course/main/2024Light/ContestDataset.zip to D:\\Yandex Disk\\Компьютерное зрение\\практики очные\\Dataset_MAKE\\Data\\ContestDataset.zip\n"
     ]
    },
    {
     "name": "stderr",
     "output_type": "stream",
     "text": [
      "100%|█████████████████████████████████████████████████████████████████| 27232148/27232148 [00:03<00:00, 8885887.38it/s]\n"
     ]
    },
    {
     "name": "stdout",
     "output_type": "stream",
     "text": [
      "Extracting D:\\Yandex Disk\\Компьютерное зрение\\практики очные\\Dataset_MAKE\\Data\\ContestDataset.zip to D:\\Yandex Disk\\Компьютерное зрение\\практики очные\\Dataset_MAKE\\Data\n"
     ]
    }
   ],
   "source": [
    "url = 'https://github.com/MVRonkin/Deep-Learning-Foundation-Course/raw/main/2024Light/ContestDataset.zip'\n",
    "root_directory = os.path.join(os.getcwd(),'.')\n",
    "download_and_extract_archive(url, root_directory)"
   ]
  },
  {
   "cell_type": "markdown",
   "id": "dd940e32",
   "metadata": {},
   "source": [
    "Dataset description"
   ]
  },
  {
   "cell_type": "code",
   "execution_count": 53,
   "id": "11d14298",
   "metadata": {},
   "outputs": [],
   "source": [
    "SIZE = (32,32)\n",
    "transform_ = lambda x: x.flatten()/255\n",
    "\n",
    "transform = transforms.Compose([\n",
    "    transforms.Resize(size=SIZE),\n",
    "    transforms.Grayscale(),\n",
    "    transforms.ToTensor(),\n",
    "    transform_,])"
   ]
  },
  {
   "cell_type": "markdown",
   "id": "e1c43acc",
   "metadata": {},
   "source": [
    "Let's check the contents of the data directory. The contents are:\n",
    "* `train` - directory with training data set;\n",
    "* `train.csv` - file with data description in `csv` format;\n",
    "*  `test` - directory with the description of the closed test dataset, the results of which will be evaluated in the competition;\n",
    "* `test.csv` - file with the description of the closed data set in `csv` format;\n",
    "* `test_open` - directory with the description of the open test dataset, for self-checking;\n",
    "* `test_open.csv` - file with the description of the open dataset in `csv` format;\n",
    "\n",
    "Open dataset description files are two columns mapping the file name to the file label. In a closed dataset, the description is a given order of file names without labels.\n",
    "\n",
    "Translated with DeepL.com (free version)"
   ]
  },
  {
   "cell_type": "code",
   "execution_count": 54,
   "id": "4a694215",
   "metadata": {
    "scrolled": true
   },
   "outputs": [
    {
     "data": {
      "text/plain": [
       "['test', 'test.csv', 'test_open', 'test_open.csv', 'train', 'train.csv']"
      ]
     },
     "execution_count": 54,
     "metadata": {},
     "output_type": "execute_result"
    }
   ],
   "source": [
    "os.listdir('ContestDataset')"
   ]
  },
  {
   "cell_type": "markdown",
   "id": "312addf9",
   "metadata": {},
   "source": [
    "Additionally, let's open each description file to make sure it has the correct format."
   ]
  },
  {
   "cell_type": "code",
   "execution_count": 55,
   "id": "ab5960f8",
   "metadata": {
    "scrolled": true
   },
   "outputs": [
    {
     "data": {
      "text/html": [
       "<div>\n",
       "<style scoped>\n",
       "    .dataframe tbody tr th:only-of-type {\n",
       "        vertical-align: middle;\n",
       "    }\n",
       "\n",
       "    .dataframe tbody tr th {\n",
       "        vertical-align: top;\n",
       "    }\n",
       "\n",
       "    .dataframe thead th {\n",
       "        text-align: right;\n",
       "    }\n",
       "</style>\n",
       "<table border=\"1\" class=\"dataframe\">\n",
       "  <thead>\n",
       "    <tr style=\"text-align: right;\">\n",
       "      <th></th>\n",
       "      <th>file_name</th>\n",
       "      <th>class</th>\n",
       "    </tr>\n",
       "  </thead>\n",
       "  <tbody>\n",
       "    <tr>\n",
       "      <th>0</th>\n",
       "      <td>n03365231_2651.png</td>\n",
       "      <td>airplane</td>\n",
       "    </tr>\n",
       "  </tbody>\n",
       "</table>\n",
       "</div>"
      ],
      "text/plain": [
       "            file_name     class\n",
       "0  n03365231_2651.png  airplane"
      ]
     },
     "execution_count": 55,
     "metadata": {},
     "output_type": "execute_result"
    }
   ],
   "source": [
    "csv = pd.read_csv(os.path.join('ContestDataset','train.csv'))\n",
    "csv.head(1)"
   ]
  },
  {
   "cell_type": "code",
   "execution_count": 56,
   "id": "5d9a88b4",
   "metadata": {},
   "outputs": [
    {
     "data": {
      "text/html": [
       "<div>\n",
       "<style scoped>\n",
       "    .dataframe tbody tr th:only-of-type {\n",
       "        vertical-align: middle;\n",
       "    }\n",
       "\n",
       "    .dataframe tbody tr th {\n",
       "        vertical-align: top;\n",
       "    }\n",
       "\n",
       "    .dataframe thead th {\n",
       "        text-align: right;\n",
       "    }\n",
       "</style>\n",
       "<table border=\"1\" class=\"dataframe\">\n",
       "  <thead>\n",
       "    <tr style=\"text-align: right;\">\n",
       "      <th></th>\n",
       "      <th>file_name</th>\n",
       "      <th>class</th>\n",
       "    </tr>\n",
       "  </thead>\n",
       "  <tbody>\n",
       "    <tr>\n",
       "      <th>0</th>\n",
       "      <td>n04308397_5230.png</td>\n",
       "      <td>airplane</td>\n",
       "    </tr>\n",
       "  </tbody>\n",
       "</table>\n",
       "</div>"
      ],
      "text/plain": [
       "            file_name     class\n",
       "0  n04308397_5230.png  airplane"
      ]
     },
     "execution_count": 56,
     "metadata": {},
     "output_type": "execute_result"
    }
   ],
   "source": [
    "csv = pd.read_csv(os.path.join('ContestDataset','test_open.csv'))\n",
    "csv.head(1)"
   ]
  },
  {
   "cell_type": "code",
   "execution_count": 57,
   "id": "53350352",
   "metadata": {
    "scrolled": true
   },
   "outputs": [
    {
     "data": {
      "text/html": [
       "<div>\n",
       "<style scoped>\n",
       "    .dataframe tbody tr th:only-of-type {\n",
       "        vertical-align: middle;\n",
       "    }\n",
       "\n",
       "    .dataframe tbody tr th {\n",
       "        vertical-align: top;\n",
       "    }\n",
       "\n",
       "    .dataframe thead th {\n",
       "        text-align: right;\n",
       "    }\n",
       "</style>\n",
       "<table border=\"1\" class=\"dataframe\">\n",
       "  <thead>\n",
       "    <tr style=\"text-align: right;\">\n",
       "      <th></th>\n",
       "      <th>file_name</th>\n",
       "    </tr>\n",
       "  </thead>\n",
       "  <tbody>\n",
       "    <tr>\n",
       "      <th>0</th>\n",
       "      <td>cifar10-train-25538.png</td>\n",
       "    </tr>\n",
       "  </tbody>\n",
       "</table>\n",
       "</div>"
      ],
      "text/plain": [
       "                 file_name\n",
       "0  cifar10-train-25538.png"
      ]
     },
     "execution_count": 57,
     "metadata": {},
     "output_type": "execute_result"
    }
   ],
   "source": [
    "csv = pd.read_csv(os.path.join('ContestDataset','test.csv'))\n",
    "csv.head(1)"
   ]
  },
  {
   "cell_type": "markdown",
   "id": "aea869cc",
   "metadata": {},
   "source": [
    "You can see that the classes are given their names. We will need to assign numeric labels to the classes."
   ]
  },
  {
   "cell_type": "code",
   "execution_count": 15,
   "id": "a26cf61a",
   "metadata": {},
   "outputs": [
    {
     "name": "stdout",
     "output_type": "stream",
     "text": [
      "[0 1 2 3 4] ['airplane' 'automobile' 'bird' 'cat' 'deer']\n"
     ]
    }
   ],
   "source": [
    "from sklearn.preprocessing import LabelEncoder\n",
    "le = LabelEncoder()\n",
    "csv = pd.read_csv(os.path.join('ContestDataset','test_open.csv'))\n",
    "print(np.unique(le.fit_transform(csv['class'])), csv['class'].unique() )"
   ]
  },
  {
   "cell_type": "markdown",
   "id": "86c0ddfe",
   "metadata": {},
   "source": [
    "Now let's create a class to work with data. The class is a typical `Dataset class` of `PyTorch`.\n",
    "\n",
    "Constructor arguments:\n",
    "* `image_dir` - path to the directory with images;\n",
    "* `data_path` - path to the file with the description of isorbations;\n",
    "* `transform` - set of image transformations in `torchvision.transforms` format;\n",
    "* `le` - the given label encoder (Note that there could be a more general class `target_transform` here.\n",
    "\n",
    "The most important part of the class is the `__getitem__` method, which allows you to work with instances of the class as a list, accessed by index.  \n",
    "\n",
    "The method returns a pair `(x,y)`, where `x` is the image and `y` is either the label, or the file name if there is no label."
   ]
  },
  {
   "cell_type": "code",
   "execution_count": 76,
   "id": "d31a083f",
   "metadata": {},
   "outputs": [],
   "source": [
    "class ContestDataset(Dataset):\n",
    "    def __init__(self, image_dir = 'train', data_path = 'train.csv', transform=None, le = False):\n",
    "        \n",
    "        self.image_dir = image_dir\n",
    "        \n",
    "        csv = pd.read_csv(data_path)      \n",
    "        \n",
    "        self.fnames = csv['file_name']        \n",
    "\n",
    "        self.transform = transform\n",
    "        \n",
    "        self.le = le\n",
    "        \n",
    "        if 'class' in csv.columns:\n",
    "            if self.le == False:\n",
    "                self.le = LabelEncoder()\n",
    "                self.le.fit(csv['class'])\n",
    "                \n",
    "            self.class_names = list(csv['class'].unique())                            \n",
    "            self.labels = self.le.transform(csv['class'])\n",
    "            self.labels_exist = True\n",
    "\n",
    "        else:\n",
    "            self.labels = None\n",
    "            self.labels_exist = False\n",
    "\n",
    "    \n",
    "    def __len__(self):\n",
    "        return len(self.fnames)\n",
    "\n",
    "    def __getitem__(self, idx):\n",
    "        img = Image.open(os.path.join(self.image_dir,self.fnames[idx]) ) \n",
    "#         img = np.asarray(img, dtype=float) \n",
    "\n",
    "        if self.transform:\n",
    "            img = self.transform(img)\n",
    "        \n",
    "        if self.labels_exist:\n",
    "            label = self.labels[idx] \n",
    "        else:\n",
    "            label = self.fnames[idx]\n",
    "\n",
    "        return img, label"
   ]
  },
  {
   "cell_type": "code",
   "execution_count": 77,
   "id": "0289eee1",
   "metadata": {},
   "outputs": [
    {
     "name": "stdout",
     "output_type": "stream",
     "text": [
      "5000\n",
      "torch.Size([1024]) 0\n"
     ]
    },
    {
     "data": {
      "image/png": "[encoded data removed]",
      "text/plain": [
       "<Figure size 300x300 with 1 Axes>"
      ]
     },
     "metadata": {},
     "output_type": "display_data"
    }
   ],
   "source": [
    "train_data =  ContestDataset(image_dir = os.path.join('ContestDataset','train'), \n",
    "                             data_path = os.path.join('ContestDataset','train.csv'),                              \n",
    "                             transform=transform, le = le)\n",
    "print(len(train_data))\n",
    "x,y = train_data[8]\n",
    "print(x.shape, y)\n",
    "plt.figure(figsize=(3,3));plt.imshow(x.reshape(*SIZE), cmap='gray'); plt.title('class: '+str(y)); plt.axis('off'); plt.show();"
   ]
  },
  {
   "cell_type": "code",
   "execution_count": 78,
   "id": "15806883",
   "metadata": {},
   "outputs": [
    {
     "name": "stdout",
     "output_type": "stream",
     "text": [
      "2500\n",
      "torch.Size([1024])\n"
     ]
    },
    {
     "data": {
      "image/png": "[encoded data removed]",
      "text/plain": [
       "<Figure size 300x300 with 1 Axes>"
      ]
     },
     "metadata": {},
     "output_type": "display_data"
    }
   ],
   "source": [
    "test_data =  ContestDataset(image_dir = os.path.join('ContestDataset','test_open'), \n",
    "                            data_path = os.path.join('ContestDataset','test_open.csv'), \n",
    "                            transform=transform, le = le)\n",
    "\n",
    "print(len(test_data))\n",
    "x,y = test_data[8]\n",
    "print(x.shape)\n",
    "plt.figure(figsize=(3,3));plt.imshow(x.reshape(*SIZE), cmap='gray'); plt.title('test: '+str(y)); plt.axis('off'); plt.show();"
   ]
  },
  {
   "cell_type": "code",
   "execution_count": 79,
   "id": "e3245dca",
   "metadata": {},
   "outputs": [
    {
     "name": "stdout",
     "output_type": "stream",
     "text": [
      "2500\n",
      "torch.Size([1024])\n"
     ]
    },
    {
     "data": {
      "image/png": "[encoded data removed]",
      "text/plain": [
       "<Figure size 300x300 with 1 Axes>"
      ]
     },
     "metadata": {},
     "output_type": "display_data"
    }
   ],
   "source": [
    "submit_data =  ContestDataset(image_dir = os.path.join('ContestDataset','test'), \n",
    "                              data_path = os.path.join('ContestDataset','test.csv'), \n",
    "                              transform=transform, le = le)\n",
    "\n",
    "print(len(submit_data))\n",
    "x, _ = submit_data[8]\n",
    "print(x.shape)\n",
    "plt.figure(figsize=(3,3));plt.imshow(x.reshape(*SIZE), cmap='gray'); plt.title('submit_data'); plt.axis('off'); plt.show();"
   ]
  },
  {
   "cell_type": "code",
   "execution_count": 80,
   "id": "3d6dd761",
   "metadata": {
    "scrolled": true
   },
   "outputs": [
    {
     "name": "stdout",
     "output_type": "stream",
     "text": [
      "TRAIN 5000 shape torch.Size([1024])\n",
      "SUBMIT 2500 shape torch.Size([1024])\n"
     ]
    },
    {
     "data": {
      "image/png": "[encoded data removed]",
      "text/plain": [
       "<Figure size 1200x400 with 8 Axes>"
      ]
     },
     "metadata": {},
     "output_type": "display_data"
    }
   ],
   "source": [
    "fig, axs = plt.subplots(2,4, figsize=(12,4));\n",
    "\n",
    "x,y = train_data[0]\n",
    "\n",
    "print('TRAIN', len(train_data), 'shape', x.shape)\n",
    "for i,idx in enumerate(np.random.randint(0, len(train_data), 4)):  \n",
    "    x,y = train_data[idx]    \n",
    "    axs[0,i].imshow(x.reshape(*SIZE), cmap='gray'); \n",
    "    axs[0,i].axis('off'); \n",
    "    axs[0,i].set_title('class:'+str(y)); \n",
    "\n",
    "x, _ = submit_data[0]\n",
    "print('SUBMIT', len(submit_data), 'shape', x.shape)\n",
    "for i,idx in enumerate(np.random.randint(0, len(submit_data), 4)):  \n",
    "    x, _ = submit_data[idx]    \n",
    "    axs[1,i].imshow(x.reshape(*SIZE), cmap='gray'); \n",
    "    axs[1,i].axis('off'); \n",
    "    axs[1,i].set_title('test data'); \n",
    "\n",
    "plt.show();"
   ]
  },
  {
   "cell_type": "markdown",
   "id": "3d934ca1",
   "metadata": {},
   "source": [
    "## Validation part"
   ]
  },
  {
   "cell_type": "code",
   "execution_count": 81,
   "id": "eb084a6a",
   "metadata": {
    "scrolled": true
   },
   "outputs": [
    {
     "name": "stdout",
     "output_type": "stream",
     "text": [
      "Training data size : 4000, Validation data size : 1000, Test data size : 2500\n"
     ]
    }
   ],
   "source": [
    "TRAIN_RATIO = 0.8\n",
    "\n",
    "n_train_examples = int(len(train_data) * TRAIN_RATIO)\n",
    "n_valid_examples = len(train_data) - n_train_examples\n",
    "\n",
    "train_data, valid_data = torch.utils.data.random_split(train_data, [n_train_examples, n_valid_examples])\n",
    "\n",
    "print(f\"Training data size : {len(train_data)}, Validation data size : {len(valid_data)}, Test data size : {len(test_data)}\")"
   ]
  },
  {
   "cell_type": "markdown",
   "id": "54939fa4",
   "metadata": {},
   "source": [
    "## DataLoader for batch"
   ]
  },
  {
   "cell_type": "markdown",
   "id": "49663b07",
   "metadata": {},
   "source": [
    "Note that currently there are 4 data sets, and accordingly 4 data loaders are created:\n",
    "* `train_loader` - training data;\n",
    "* `val_loader` - validation data;\n",
    "* `test_loader` - test data (open self-test);\n",
    "* `submit_loader` - test data for submission (closed test)."
   ]
  },
  {
   "cell_type": "code",
   "execution_count": 82,
   "id": "e06e581a",
   "metadata": {},
   "outputs": [
    {
     "name": "stdout",
     "output_type": "stream",
     "text": [
      "Training data batches : 63, Validation data batches : 16, Test data batches : 40, Submit data batches : 40\n"
     ]
    }
   ],
   "source": [
    "import torch.utils.data as data\n",
    "\n",
    "BATCH_SIZE = 64\n",
    "\n",
    "train_loader = data.DataLoader(train_data,\n",
    "                                 shuffle=True,\n",
    "                                 batch_size=BATCH_SIZE)\n",
    "\n",
    "val_loader = data.DataLoader(valid_data,\n",
    "                                 batch_size=BATCH_SIZE)\n",
    "\n",
    "test_loader = data.DataLoader(test_data,\n",
    "                                batch_size=BATCH_SIZE)\n",
    "\n",
    "\n",
    "submit_loader = data.DataLoader(submit_data,\n",
    "                                batch_size=BATCH_SIZE)\n",
    " \n",
    "print(f\"Training data batches : {len(train_loader)}, Validation data batches : {len(val_loader)}, Test data batches : {len(test_loader)}, Submit data batches : {len(test_loader)}\")"
   ]
  },
  {
   "cell_type": "code",
   "execution_count": 83,
   "id": "306ae16b",
   "metadata": {},
   "outputs": [
    {
     "data": {
      "text/plain": [
       "(torch.Size([64, 1024]), torch.Size([64]))"
      ]
     },
     "execution_count": 83,
     "metadata": {},
     "output_type": "execute_result"
    }
   ],
   "source": [
    "images, label =  next(iter(val_loader))\n",
    "images.shape, label.shape\n"
   ]
  },
  {
   "cell_type": "code",
   "execution_count": 84,
   "id": "872f2b10",
   "metadata": {},
   "outputs": [
    {
     "data": {
      "image/png": "[encoded data removed]",
      "text/plain": [
       "<Figure size 640x480 with 1 Axes>"
      ]
     },
     "metadata": {},
     "output_type": "display_data"
    },
    {
     "data": {
      "text/plain": [
       "(torch.Size([64, 1, 32, 32]), torch.Size([3, 256, 256]), (256, 256, 3))"
      ]
     },
     "execution_count": 84,
     "metadata": {},
     "output_type": "execute_result"
    }
   ],
   "source": [
    "images = images.reshape(-1,1,*SIZE)\n",
    "batch = torchvision.utils.make_grid(images, nrow = int(np.sqrt(images.shape[0])), padding = 0)\n",
    "vis_batch = batch.data.numpy().transpose((1, 2, 0))*255\n",
    "plt.imshow(vis_batch); \n",
    "plt.axis('off');\n",
    "plt.show()\n",
    "images.shape, batch.shape,  vis_batch.shape"
   ]
  },
  {
   "cell_type": "markdown",
   "id": "cb52613e",
   "metadata": {},
   "source": [
    "## Baseline model"
   ]
  },
  {
   "cell_type": "code",
   "execution_count": 85,
   "id": "0cde4ea7",
   "metadata": {},
   "outputs": [],
   "source": [
    "class Model(nn.Module):\n",
    "    def __init__(self):\n",
    "        super().__init__()\n",
    "        self.fc1 = nn.Linear(SIZE[0]*SIZE[1], 128)\n",
    "        self.fc2 = nn.Linear(128, 64)\n",
    "        self.fc3 = nn.Linear(64, 64)\n",
    "        self.fc_out = nn.Linear(64, 11)\n",
    "\n",
    "    def forward(self, x):\n",
    "        x = F.relu(self.fc1(x))\n",
    "        x = F.relu(self.fc2(x))\n",
    "        x = F.relu(self.fc3(x)+ x) \n",
    "        x = self.fc_out(x)\n",
    "        return x\n",
    "        "
   ]
  },
  {
   "cell_type": "code",
   "execution_count": 86,
   "id": "4cca8e58",
   "metadata": {
    "scrolled": true
   },
   "outputs": [
    {
     "data": {
      "text/plain": [
       "==========================================================================================\n",
       "Layer (type:depth-idx)                   Output Shape              Param #\n",
       "==========================================================================================\n",
       "Model                                    [1, 11]                   --\n",
       "├─Linear: 1-1                            [1, 128]                  131,200\n",
       "├─Linear: 1-2                            [1, 64]                   8,256\n",
       "├─Linear: 1-3                            [1, 64]                   4,160\n",
       "├─Linear: 1-4                            [1, 11]                   715\n",
       "==========================================================================================\n",
       "Total params: 144,331\n",
       "Trainable params: 144,331\n",
       "Non-trainable params: 0\n",
       "Total mult-adds (Units.MEGABYTES): 0.14\n",
       "==========================================================================================\n",
       "Input size (MB): 0.00\n",
       "Forward/backward pass size (MB): 0.00\n",
       "Params size (MB): 0.58\n",
       "Estimated Total Size (MB): 0.58\n",
       "=========================================================================================="
      ]
     },
     "execution_count": 86,
     "metadata": {},
     "output_type": "execute_result"
    }
   ],
   "source": [
    "model = Model()\n",
    "\n",
    "summary(model,input_size =(1,SIZE[0]*SIZE[1]))"
   ]
  },
  {
   "cell_type": "markdown",
   "id": "376bc1dc",
   "metadata": {},
   "source": [
    "# Training"
   ]
  },
  {
   "cell_type": "markdown",
   "id": "a6d57549",
   "metadata": {},
   "source": [
    "Функции описывают минимальный рабочий вариант обучения и проверки качества работы нейронной сети."
   ]
  },
  {
   "cell_type": "code",
   "execution_count": 87,
   "id": "ec4f5c33",
   "metadata": {},
   "outputs": [],
   "source": [
    "def train(model, dataloader, optimizer, criterion, metric,  device):\n",
    "\n",
    "    epoch_loss = 0\n",
    "    epoch_acc  = 0\n",
    "\n",
    "    model.train()\n",
    "\n",
    "    for (x, y) in tqdm(dataloader, desc=\"Training\", leave=False):\n",
    "\n",
    "        x, y = x.to(device).float(), y.to(device).long()\n",
    "\n",
    "        optimizer.zero_grad(set_to_none = True)\n",
    "\n",
    "        y_pred = model(x) #model.forward(x)\n",
    "\n",
    "        loss = criterion(y_pred, y)\n",
    "        acc  = metric(y_pred, y)\n",
    "\n",
    "        loss.backward()\n",
    "        optimizer.step()\n",
    "\n",
    "        epoch_loss += loss.item()\n",
    "        epoch_acc  += acc.item()\n",
    "\n",
    "    return epoch_loss / len(dataloader), epoch_acc / len(dataloader)\n",
    "def evaluate(model, dataloader, criterion, metric, device):\n",
    "\n",
    "    epoch_loss = 0\n",
    "    epoch_acc  = 0\n",
    "\n",
    "    model.eval()\n",
    "\n",
    "    with torch.no_grad():\n",
    "        \n",
    "        for (x, y) in tqdm(dataloader, desc=\"Evaluating\", leave=False):\n",
    "\n",
    "            x, y = x.to(device).float(), y.to(device).long()\n",
    "\n",
    "            y_pred = model.forward(x) #model(x)\n",
    "\n",
    "            loss = criterion(y_pred, y)\n",
    "            acc  = metric( y_pred, y)\n",
    "\n",
    "            epoch_loss += loss.item()\n",
    "            epoch_acc  += acc.item()\n",
    "\n",
    "    return epoch_loss / len(dataloader), epoch_acc / len(dataloader)\n",
    "def epoch_time(start_time, end_time):\n",
    "    elapsed_time = end_time - start_time\n",
    "    elapsed_mins = int(elapsed_time / 60)\n",
    "    elapsed_secs = int(elapsed_time - (elapsed_mins * 60))\n",
    "    return elapsed_mins, elapsed_secs\n",
    "def fit(model, train_loader, val_loader, optimizer, criterion, metric, epochs = 10, \n",
    "        device='cpu', scheduler = None,  path_best = 'best_model.pt', verbose = True):\n",
    "    \n",
    "    best_valid_loss = float('inf')\n",
    "    history = {'train_loss':np.zeros(epochs),\n",
    "               'valid_loss':np.zeros(epochs),\n",
    "               'train_acc':np.zeros(epochs),\n",
    "               'valid_acc':np.zeros(epochs)}\n",
    "    \n",
    "    for epoch in trange(epochs):\n",
    "\n",
    "        start_time = time.monotonic()\n",
    "\n",
    "        train_loss, train_acc = train(model, train_loader, optimizer, criterion, metric, device)\n",
    "        valid_loss, valid_acc = evaluate(model, val_loader, criterion, metric, device)\n",
    "        \n",
    "        if scheduler != None:\n",
    "            scheduler.step()\n",
    "        \n",
    "        if valid_loss < best_valid_loss:\n",
    "            best_valid_loss = valid_loss\n",
    "            torch.save(model.state_dict(), path_best)\n",
    "        \n",
    "        end_time = time.monotonic()\n",
    "\n",
    "        epoch_mins, epoch_secs = epoch_time(start_time, end_time)       \n",
    "    \n",
    "        if verbose == True:\n",
    "            if epoch%2 == 1:    # print every 2 epochs:\n",
    "                print(f'Epoch: {epoch+1:02} | Epoch Time: {epoch_mins}m {epoch_secs}s | LR {optimizer.param_groups[0][\"lr\"] :.4f}')\n",
    "                print(f'\\tTrain Loss: {train_loss:.3f} | Train Acc: {train_acc*100:.2f}%',\n",
    "                f' | Val. Loss: {valid_loss:.3f} | Val. Acc: {valid_acc*100:.2f}%') \n",
    "  \n",
    "        history['train_loss'][epoch] = train_loss \n",
    "        history['valid_loss'][epoch] = valid_loss \n",
    "        history['train_acc'][epoch] = train_acc \n",
    "        history['valid_acc'][epoch] = valid_acc \n",
    "    return history"
   ]
  },
  {
   "cell_type": "markdown",
   "id": "8714a2ef",
   "metadata": {},
   "source": [
    "# Initialization"
   ]
  },
  {
   "cell_type": "code",
   "execution_count": 88,
   "id": "31769082",
   "metadata": {},
   "outputs": [],
   "source": [
    "model = Model()\n",
    "criterion = nn.CrossEntropyLoss()\n",
    "model = model.to(device)\n",
    "criterion = criterion.to(device)\n",
    "optimizer = optim.Adam(model.parameters(), lr = 5e-3)\n",
    "\n",
    "\n",
    "def calculate_accuracy(y_pred, y):\n",
    "    with torch.no_grad():\n",
    "        top_pred = y_pred.argmax(1, keepdim=True)\n",
    "        correct = top_pred.eq(y.view_as(top_pred)).sum()\n",
    "        acc = correct.float() / y.shape[0]\n",
    "    return acc\n",
    "\n",
    "metric = calculate_accuracy"
   ]
  },
  {
   "cell_type": "code",
   "execution_count": 89,
   "id": "5cbd8e3a",
   "metadata": {},
   "outputs": [
    {
     "data": {
      "application/vnd.jupyter.widget-view+json": {
       "model_id": "52eb7f41bb074fb5befe88a2458aa84a",
       "version_major": 2,
       "version_minor": 0
      },
      "text/plain": [
       "  0%|          | 0/10 [00:00<?, ?it/s]"
      ]
     },
     "metadata": {},
     "output_type": "display_data"
    },
    {
     "data": {
      "application/vnd.jupyter.widget-view+json": {
       "model_id": "",
       "version_major": 2,
       "version_minor": 0
      },
      "text/plain": [
       "Training:   0%|          | 0/63 [00:00<?, ?it/s]"
      ]
     },
     "metadata": {},
     "output_type": "display_data"
    },
    {
     "data": {
      "application/vnd.jupyter.widget-view+json": {
       "model_id": "",
       "version_major": 2,
       "version_minor": 0
      },
      "text/plain": [
       "Evaluating:   0%|          | 0/16 [00:00<?, ?it/s]"
      ]
     },
     "metadata": {},
     "output_type": "display_data"
    },
    {
     "name": "stdout",
     "output_type": "stream",
     "text": [
      "Epoch: 01 | Epoch Time: 0m 2s\n",
      "\tTrain Loss: 1.715 | Train Acc: 20.91%  | Val. Loss: 1.617 | Val. Acc: 19.80%\n"
     ]
    },
    {
     "data": {
      "application/vnd.jupyter.widget-view+json": {
       "model_id": "",
       "version_major": 2,
       "version_minor": 0
      },
      "text/plain": [
       "Training:   0%|          | 0/63 [00:00<?, ?it/s]"
      ]
     },
     "metadata": {},
     "output_type": "display_data"
    },
    {
     "data": {
      "application/vnd.jupyter.widget-view+json": {
       "model_id": "",
       "version_major": 2,
       "version_minor": 0
      },
      "text/plain": [
       "Evaluating:   0%|          | 0/16 [00:00<?, ?it/s]"
      ]
     },
     "metadata": {},
     "output_type": "display_data"
    },
    {
     "name": "stdout",
     "output_type": "stream",
     "text": [
      "Epoch: 02 | Epoch Time: 0m 2s\n",
      "\tTrain Loss: 1.618 | Train Acc: 20.34%  | Val. Loss: 1.611 | Val. Acc: 19.80%\n"
     ]
    },
    {
     "data": {
      "application/vnd.jupyter.widget-view+json": {
       "model_id": "",
       "version_major": 2,
       "version_minor": 0
      },
      "text/plain": [
       "Training:   0%|          | 0/63 [00:00<?, ?it/s]"
      ]
     },
     "metadata": {},
     "output_type": "display_data"
    },
    {
     "data": {
      "application/vnd.jupyter.widget-view+json": {
       "model_id": "",
       "version_major": 2,
       "version_minor": 0
      },
      "text/plain": [
       "Evaluating:   0%|          | 0/16 [00:00<?, ?it/s]"
      ]
     },
     "metadata": {},
     "output_type": "display_data"
    },
    {
     "name": "stdout",
     "output_type": "stream",
     "text": [
      "Epoch: 03 | Epoch Time: 0m 2s\n",
      "\tTrain Loss: 1.601 | Train Acc: 23.49%  | Val. Loss: 1.576 | Val. Acc: 25.02%\n"
     ]
    },
    {
     "data": {
      "application/vnd.jupyter.widget-view+json": {
       "model_id": "",
       "version_major": 2,
       "version_minor": 0
      },
      "text/plain": [
       "Training:   0%|          | 0/63 [00:00<?, ?it/s]"
      ]
     },
     "metadata": {},
     "output_type": "display_data"
    },
    {
     "data": {
      "application/vnd.jupyter.widget-view+json": {
       "model_id": "",
       "version_major": 2,
       "version_minor": 0
      },
      "text/plain": [
       "Evaluating:   0%|          | 0/16 [00:00<?, ?it/s]"
      ]
     },
     "metadata": {},
     "output_type": "display_data"
    },
    {
     "name": "stdout",
     "output_type": "stream",
     "text": [
      "Epoch: 04 | Epoch Time: 0m 2s\n",
      "\tTrain Loss: 1.574 | Train Acc: 27.23%  | Val. Loss: 1.543 | Val. Acc: 30.21%\n"
     ]
    },
    {
     "data": {
      "application/vnd.jupyter.widget-view+json": {
       "model_id": "",
       "version_major": 2,
       "version_minor": 0
      },
      "text/plain": [
       "Training:   0%|          | 0/63 [00:00<?, ?it/s]"
      ]
     },
     "metadata": {},
     "output_type": "display_data"
    },
    {
     "data": {
      "application/vnd.jupyter.widget-view+json": {
       "model_id": "",
       "version_major": 2,
       "version_minor": 0
      },
      "text/plain": [
       "Evaluating:   0%|          | 0/16 [00:00<?, ?it/s]"
      ]
     },
     "metadata": {},
     "output_type": "display_data"
    },
    {
     "name": "stdout",
     "output_type": "stream",
     "text": [
      "Epoch: 05 | Epoch Time: 0m 2s\n",
      "\tTrain Loss: 1.543 | Train Acc: 29.17%  | Val. Loss: 1.508 | Val. Acc: 32.58%\n"
     ]
    },
    {
     "data": {
      "application/vnd.jupyter.widget-view+json": {
       "model_id": "",
       "version_major": 2,
       "version_minor": 0
      },
      "text/plain": [
       "Training:   0%|          | 0/63 [00:00<?, ?it/s]"
      ]
     },
     "metadata": {},
     "output_type": "display_data"
    },
    {
     "data": {
      "application/vnd.jupyter.widget-view+json": {
       "model_id": "",
       "version_major": 2,
       "version_minor": 0
      },
      "text/plain": [
       "Evaluating:   0%|          | 0/16 [00:00<?, ?it/s]"
      ]
     },
     "metadata": {},
     "output_type": "display_data"
    },
    {
     "name": "stdout",
     "output_type": "stream",
     "text": [
      "Epoch: 06 | Epoch Time: 0m 2s\n",
      "\tTrain Loss: 1.502 | Train Acc: 33.53%  | Val. Loss: 1.476 | Val. Acc: 35.20%\n"
     ]
    },
    {
     "data": {
      "application/vnd.jupyter.widget-view+json": {
       "model_id": "",
       "version_major": 2,
       "version_minor": 0
      },
      "text/plain": [
       "Training:   0%|          | 0/63 [00:00<?, ?it/s]"
      ]
     },
     "metadata": {},
     "output_type": "display_data"
    },
    {
     "data": {
      "application/vnd.jupyter.widget-view+json": {
       "model_id": "",
       "version_major": 2,
       "version_minor": 0
      },
      "text/plain": [
       "Evaluating:   0%|          | 0/16 [00:00<?, ?it/s]"
      ]
     },
     "metadata": {},
     "output_type": "display_data"
    },
    {
     "name": "stdout",
     "output_type": "stream",
     "text": [
      "Epoch: 07 | Epoch Time: 0m 2s\n",
      "\tTrain Loss: 1.491 | Train Acc: 34.28%  | Val. Loss: 1.508 | Val. Acc: 30.92%\n"
     ]
    },
    {
     "data": {
      "application/vnd.jupyter.widget-view+json": {
       "model_id": "",
       "version_major": 2,
       "version_minor": 0
      },
      "text/plain": [
       "Training:   0%|          | 0/63 [00:00<?, ?it/s]"
      ]
     },
     "metadata": {},
     "output_type": "display_data"
    },
    {
     "data": {
      "application/vnd.jupyter.widget-view+json": {
       "model_id": "",
       "version_major": 2,
       "version_minor": 0
      },
      "text/plain": [
       "Evaluating:   0%|          | 0/16 [00:00<?, ?it/s]"
      ]
     },
     "metadata": {},
     "output_type": "display_data"
    },
    {
     "name": "stdout",
     "output_type": "stream",
     "text": [
      "Epoch: 08 | Epoch Time: 0m 2s\n",
      "\tTrain Loss: 1.488 | Train Acc: 34.60%  | Val. Loss: 1.488 | Val. Acc: 33.75%\n"
     ]
    },
    {
     "data": {
      "application/vnd.jupyter.widget-view+json": {
       "model_id": "",
       "version_major": 2,
       "version_minor": 0
      },
      "text/plain": [
       "Training:   0%|          | 0/63 [00:00<?, ?it/s]"
      ]
     },
     "metadata": {},
     "output_type": "display_data"
    },
    {
     "data": {
      "application/vnd.jupyter.widget-view+json": {
       "model_id": "",
       "version_major": 2,
       "version_minor": 0
      },
      "text/plain": [
       "Evaluating:   0%|          | 0/16 [00:00<?, ?it/s]"
      ]
     },
     "metadata": {},
     "output_type": "display_data"
    },
    {
     "name": "stdout",
     "output_type": "stream",
     "text": [
      "Epoch: 09 | Epoch Time: 0m 2s\n",
      "\tTrain Loss: 1.473 | Train Acc: 35.79%  | Val. Loss: 1.452 | Val. Acc: 36.15%\n"
     ]
    },
    {
     "data": {
      "application/vnd.jupyter.widget-view+json": {
       "model_id": "",
       "version_major": 2,
       "version_minor": 0
      },
      "text/plain": [
       "Training:   0%|          | 0/63 [00:00<?, ?it/s]"
      ]
     },
     "metadata": {},
     "output_type": "display_data"
    },
    {
     "data": {
      "application/vnd.jupyter.widget-view+json": {
       "model_id": "",
       "version_major": 2,
       "version_minor": 0
      },
      "text/plain": [
       "Evaluating:   0%|          | 0/16 [00:00<?, ?it/s]"
      ]
     },
     "metadata": {},
     "output_type": "display_data"
    },
    {
     "name": "stdout",
     "output_type": "stream",
     "text": [
      "Epoch: 10 | Epoch Time: 0m 2s\n",
      "\tTrain Loss: 1.468 | Train Acc: 36.63%  | Val. Loss: 1.461 | Val. Acc: 35.43%\n"
     ]
    }
   ],
   "source": [
    "fit(model, train_loader, val_loader, optimizer, criterion, metric, epochs = 10, device=device, verbose = True)"
   ]
  },
  {
   "cell_type": "markdown",
   "id": "d8b68858",
   "metadata": {},
   "source": [
    "# Testing"
   ]
  },
  {
   "cell_type": "code",
   "execution_count": 74,
   "id": "a503c032",
   "metadata": {},
   "outputs": [
    {
     "data": {
      "application/vnd.jupyter.widget-view+json": {
       "model_id": "",
       "version_major": 2,
       "version_minor": 0
      },
      "text/plain": [
       "Evaluating:   0%|          | 0/40 [00:00<?, ?it/s]"
      ]
     },
     "metadata": {},
     "output_type": "display_data"
    },
    {
     "name": "stdout",
     "output_type": "stream",
     "text": [
      "Test Loss: 1.448 | Test Acc: 35.23%\n"
     ]
    }
   ],
   "source": [
    "model.load_state_dict(torch.load('best_model.pt'))\n",
    "\n",
    "test_loss, test_acc = evaluate(model, test_loader, criterion, metric, device)\n",
    "\n",
    "print(f'Test Loss: {test_loss:.3f} | Test Acc: {test_acc*100:.2f}%')"
   ]
  },
  {
   "cell_type": "markdown",
   "id": "bda95e65",
   "metadata": {},
   "source": [
    "# Submission report"
   ]
  },
  {
   "cell_type": "markdown",
   "id": "250ff7ca",
   "metadata": {},
   "source": [
    "There is a special separate function `submit` whose result is a `DataFrame` with two columns:\n",
    "* `file_name` - file name from a closed dataset\n",
    "* `class` - predicted class label (in number format from 0 and higher)."
   ]
  },
  {
   "cell_type": "code",
   "execution_count": 75,
   "id": "55adf27a",
   "metadata": {},
   "outputs": [],
   "source": [
    "def submit(model, dataloader, device):\n",
    "\n",
    "    df = pd.DataFrame(columns = ('file_name','class'))\n",
    "    model.eval()\n",
    "\n",
    "    with torch.inference_mode():\n",
    "        \n",
    "        for x,y in tqdm(dataloader, desc=\"Evaluating\", leave=False):\n",
    "\n",
    "            x = x.to(device).float()\n",
    "            y_pred = model.forward(x)\n",
    "            cls    = list(y_pred.argmax(1, keepdim=False).data.numpy())\n",
    "            \n",
    "            df = pd.concat([df,pd.DataFrame({'file_name':y,'class':cls})], ignore_index = True)\n",
    "\n",
    "    return df.reset_index()"
   ]
  },
  {
   "cell_type": "code",
   "execution_count": 44,
   "id": "cbab1f30",
   "metadata": {},
   "outputs": [
    {
     "data": {
      "application/vnd.jupyter.widget-view+json": {
       "model_id": "",
       "version_major": 2,
       "version_minor": 0
      },
      "text/plain": [
       "Evaluating:   0%|          | 0/40 [00:00<?, ?it/s]"
      ]
     },
     "metadata": {},
     "output_type": "display_data"
    }
   ],
   "source": [
    "df_ = submit(model, submit_loader, device)"
   ]
  },
  {
   "cell_type": "markdown",
   "id": "5ba82896",
   "metadata": {},
   "source": [
    "Saving\n",
    "\n",
    "<code style=\"color:red\">__Plase name file you name__ </code>"
   ]
  },
  {
   "cell_type": "code",
   "execution_count": 92,
   "id": "c73ee365",
   "metadata": {},
   "outputs": [
    {
     "name": "stdout",
     "output_type": "stream",
     "text": [
      "FULL PATH:  \n",
      " D:\\Yandex Disk\\Компьютерное зрение\\практики очные\\Dataset_MAKE\\submit.csv\n"
     ]
    }
   ],
   "source": [
    "path_submit = 'submit.csv'\n",
    "\n",
    "df_.to_csv(path_submit, index = False )\n",
    "\n",
    "print('FULL PATH:  \\n', os.path.join(os.getcwd(), path_submit) )"
   ]
  },
  {
   "cell_type": "markdown",
   "id": "d1889bdc",
   "metadata": {},
   "source": [
    "Cheking"
   ]
  },
  {
   "cell_type": "code",
   "execution_count": 46,
   "id": "0f522ad5",
   "metadata": {},
   "outputs": [
    {
     "data": {
      "text/html": [
       "<div>\n",
       "<style scoped>\n",
       "    .dataframe tbody tr th:only-of-type {\n",
       "        vertical-align: middle;\n",
       "    }\n",
       "\n",
       "    .dataframe tbody tr th {\n",
       "        vertical-align: top;\n",
       "    }\n",
       "\n",
       "    .dataframe thead th {\n",
       "        text-align: right;\n",
       "    }\n",
       "</style>\n",
       "<table border=\"1\" class=\"dataframe\">\n",
       "  <thead>\n",
       "    <tr style=\"text-align: right;\">\n",
       "      <th></th>\n",
       "      <th>index</th>\n",
       "      <th>file_name</th>\n",
       "      <th>class</th>\n",
       "    </tr>\n",
       "  </thead>\n",
       "  <tbody>\n",
       "    <tr>\n",
       "      <th>0</th>\n",
       "      <td>0</td>\n",
       "      <td>cifar10-train-25538.png</td>\n",
       "      <td>0</td>\n",
       "    </tr>\n",
       "    <tr>\n",
       "      <th>1</th>\n",
       "      <td>1</td>\n",
       "      <td>cifar10-train-1086.png</td>\n",
       "      <td>0</td>\n",
       "    </tr>\n",
       "    <tr>\n",
       "      <th>2</th>\n",
       "      <td>2</td>\n",
       "      <td>cifar10-train-12192.png</td>\n",
       "      <td>2</td>\n",
       "    </tr>\n",
       "    <tr>\n",
       "      <th>3</th>\n",
       "      <td>3</td>\n",
       "      <td>cifar10-train-43783.png</td>\n",
       "      <td>2</td>\n",
       "    </tr>\n",
       "    <tr>\n",
       "      <th>4</th>\n",
       "      <td>4</td>\n",
       "      <td>n03596543_2495.png</td>\n",
       "      <td>0</td>\n",
       "    </tr>\n",
       "    <tr>\n",
       "      <th>...</th>\n",
       "      <td>...</td>\n",
       "      <td>...</td>\n",
       "      <td>...</td>\n",
       "    </tr>\n",
       "    <tr>\n",
       "      <th>2495</th>\n",
       "      <td>2495</td>\n",
       "      <td>n02430045_5648.png</td>\n",
       "      <td>3</td>\n",
       "    </tr>\n",
       "    <tr>\n",
       "      <th>2496</th>\n",
       "      <td>2496</td>\n",
       "      <td>cifar10-train-2896.png</td>\n",
       "      <td>2</td>\n",
       "    </tr>\n",
       "    <tr>\n",
       "      <th>2497</th>\n",
       "      <td>2497</td>\n",
       "      <td>n02439398_4337.png</td>\n",
       "      <td>2</td>\n",
       "    </tr>\n",
       "    <tr>\n",
       "      <th>2498</th>\n",
       "      <td>2498</td>\n",
       "      <td>cifar10-test-1945.png</td>\n",
       "      <td>3</td>\n",
       "    </tr>\n",
       "    <tr>\n",
       "      <th>2499</th>\n",
       "      <td>2499</td>\n",
       "      <td>n02434954_6058.png</td>\n",
       "      <td>2</td>\n",
       "    </tr>\n",
       "  </tbody>\n",
       "</table>\n",
       "<p>2500 rows × 3 columns</p>\n",
       "</div>"
      ],
      "text/plain": [
       "      index                file_name  class\n",
       "0         0  cifar10-train-25538.png      0\n",
       "1         1   cifar10-train-1086.png      0\n",
       "2         2  cifar10-train-12192.png      2\n",
       "3         3  cifar10-train-43783.png      2\n",
       "4         4       n03596543_2495.png      0\n",
       "...     ...                      ...    ...\n",
       "2495   2495       n02430045_5648.png      3\n",
       "2496   2496   cifar10-train-2896.png      2\n",
       "2497   2497       n02439398_4337.png      2\n",
       "2498   2498    cifar10-test-1945.png      3\n",
       "2499   2499       n02434954_6058.png      2\n",
       "\n",
       "[2500 rows x 3 columns]"
      ]
     },
     "execution_count": 46,
     "metadata": {},
     "output_type": "execute_result"
    }
   ],
   "source": [
    "pd.read_csv('submit.csv')"
   ]
  },
  {
   "cell_type": "code",
   "execution_count": null,
   "id": "36501473",
   "metadata": {},
   "outputs": [],
   "source": []
  }
 ],
 "metadata": {
  "kernelspec": {
   "display_name": "Python 3",
   "language": "python",
   "name": "python3"
  },
  "language_info": {
   "codemirror_mode": {
    "name": "ipython",
    "version": 3
   },
   "file_extension": ".py",
   "mimetype": "text/x-python",
   "name": "python",
   "nbconvert_exporter": "python",
   "pygments_lexer": "ipython3",
   "version": "3.7.0"
  },
  "toc": {
   "base_numbering": 1,
   "nav_menu": {},
   "number_sections": true,
   "sideBar": true,
   "skip_h1_title": false,
   "title_cell": "Table of Contents",
   "title_sidebar": "Contents",
   "toc_cell": false,
   "toc_position": {},
   "toc_section_display": true,
   "toc_window_display": false
  }
 },
 "nbformat": 4,
 "nbformat_minor": 5
}
