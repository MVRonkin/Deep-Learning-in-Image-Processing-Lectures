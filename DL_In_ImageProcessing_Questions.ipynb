{
 "cells": [
  {
   "cell_type": "markdown",
   "metadata": {},
   "source": [
    "# Questions to Deep Learning for Image Processing And Analysis"
   ]
  },
  {
   "cell_type": "markdown",
   "metadata": {},
   "source": [
    "<font size=4.5pt  face = 'georgia' style='Line-height :3'><div style='text-align: justify; '><ol>\n",
    "<li> Tasks of Image processing and analysis (including computer vision) with examples.\n",
    "<li> Advantages and Disadvantages of Using Deep Learning in Image Processing (Computer Vision).\n",
    "<li> Advantages and Disadvantages of Alternative approach to Using Deep Learning in Image Processing (Computer Vision).  \n",
    "<li> Advantages of using Convolution Neural Network (CNN) in Image Processing and Analysis (Computer Vision).      \n",
    "<li> Structure of Convolution Neural Network (meaning of feature extractor (backbone) and types of head layers).\n",
    "<li> Meaning of an Receptive Field in CNN\n",
    "<li> Explaining how 2d-convolution layer work (Multiple Channel Multiple Kernel)\n",
    "<li> Meaning of extending the 2d-convolution operation (padding, stride, dialed rate)    \n",
    "<li> Types of Convolution and their aims:<ul>\n",
    "    <li> Conventional (square) Convolution, \n",
    "    <li> Cascade Convolution, \n",
    "    <li> Grouped Convolution, \n",
    "    <li> Spatially Separable Convolution, \n",
    "    <li> Pointwise Convolution, \n",
    "    <li> Deepwise-Convolution (and Deepwise-Separable Convolution),\n",
    "    <li> Pixel-shuffle (High Resolution) Convolution, \n",
    "    <li> Transposed Convolution. </ul>\n",
    "<li> Meaning of the Local Pooling Operation in CNN (for instance max-pooling).\n",
    "<li> Types of Local Pooling operations and their aims:<ul>\n",
    "    <li> max-pooling,\n",
    "    <li> average-pooling,  </ul> \n",
    "<li> Advantages of the Global Average Pooling in CNN in comparison with flatten operation. \n",
    "<li> Types of Upsampling Layers \n",
    "<li> Meaning of the Activation Function in Neural Networks\n",
    "<li> Why we use Sigmoid and SoftMax in Last Layers for Classification tasks (Advantages and Disadvantages of Sigmoid Activation function).\n",
    "<li> Advantages of Reflected Linear Unit (ReLU) in hidden layers of CNN.\n",
    "<li> Types of ReLU: ReLU6, Leaky ReLU, Parametric ReLU, ELU, SELU, GELU, Swish, Mish and how do you think why they all need (Disadvantages of Conventional ReLU).\n",
    "<li> Meaning of Weights initialization.\n",
    "<li> Difference between Binary Classification, Multi-Class Classification and Multi-Label Classification, \n",
    "<li> Types of Loss Function for Classification:Binary Cross-Entropy, One-Hot Categorical Cross-Entropy, Sparse Categorical Cross-Entropy, Imbalance cases.\n",
    "<li> Reasons of using Cross-Entropy with Logits (Binary Cross-Entropy with Logits and Categorical Cross-Entropy with Logits).\n",
    "<li> Types of Regression Loss: L2, L1, L1smooth (Huber Loss)   \n",
    "<li> Specificity of Loss function in Semantic Segmentation.\n",
    "<li> Method of Neural Network Regularization: L2, data augmentation, 2d Dropout (spatial Dropout), Batch Normalization.\n",
    "<li> Advantages and Disadvantages of Batch Normalization and why some times we need to use Layer Norm or Group Norm.\n",
    "<li> Meaning of Cross Validation.\n",
    "<li> Meaning of Learning rate choosing and scheduling.\n",
    "<li> Types of Stochastic Gradient Descent (SGD): SGD with Momentum (Nesterov), RMS prop, ADAM - why they need to use. \n",
    "<li> The main tendencies in the modern state of CNN Architectures.\n",
    "<li> The main idea of Network In Net (and inception layer).\n",
    "<li> The main idea residual connection (skip connection and denseNet block).\n",
    "<li> The main idea of MobileNet V2 block.\n",
    "<li> The main idea of Squeeze and Excitation (and MobileNet V3 block).\n",
    "<li> The main ideas under EfficientNet V1/V2. \n",
    "<li> The main idea of the Noisy Student training scheme and its variants.\n",
    "<li> Advantages and Disadvantages of Visual Transformer Networks. "
   ]
  },
  {
   "cell_type": "code",
   "execution_count": null,
   "metadata": {},
   "outputs": [],
   "source": []
  }
 ],
 "metadata": {
  "kernelspec": {
   "display_name": "Python 3",
   "language": "python",
   "name": "python3"
  },
  "language_info": {
   "codemirror_mode": {
    "name": "ipython",
    "version": 3
   },
   "file_extension": ".py",
   "mimetype": "text/x-python",
   "name": "python",
   "nbconvert_exporter": "python",
   "pygments_lexer": "ipython3",
   "version": "3.7.4"
  },
  "toc": {
   "base_numbering": 1,
   "nav_menu": {},
   "number_sections": true,
   "sideBar": true,
   "skip_h1_title": false,
   "title_cell": "Table of Contents",
   "title_sidebar": "Contents",
   "toc_cell": false,
   "toc_position": {
    "height": "calc(100% - 180px)",
    "left": "10px",
    "top": "150px",
    "width": "165px"
   },
   "toc_section_display": true,
   "toc_window_display": false
  }
 },
 "nbformat": 4,
 "nbformat_minor": 4
}
